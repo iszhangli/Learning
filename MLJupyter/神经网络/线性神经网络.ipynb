{
 "cells": [
  {
   "cell_type": "code",
   "execution_count": 1,
   "metadata": {},
   "outputs": [],
   "source": [
    "import numpy as np\n",
    "import matplotlib.pyplot as plt"
   ]
  },
  {
   "cell_type": "code",
   "execution_count": 82,
   "metadata": {},
   "outputs": [
    {
     "name": "stdout",
     "output_type": "stream",
     "text": [
      "[[1 0 0 0 0 0]\n",
      " [1 0 1 0 0 1]\n",
      " [1 1 0 1 0 0]\n",
      " [1 1 1 1 1 1]]\n",
      "[[-1]\n",
      " [ 1]\n",
      " [ 1]\n",
      " [-1]]\n",
      "[[-0.8888106 ]\n",
      " [ 0.17239493]\n",
      " [ 0.53588862]\n",
      " [ 0.812739  ]\n",
      " [-0.94097522]\n",
      " [-0.12356123]]\n"
     ]
    }
   ],
   "source": [
    "X = np.array([[1,0,0,0,0,0],[1,0,1,0,0,1],[1,1,0,1,0,0],[1,1,1,1,1,1]])\n",
    "Y = np.array([[-1],[1],[1],[-1]])\n",
    "# 初始化权值\n",
    "W = (np.random.random([6,1])-0.5) * 2\n",
    "print(X)\n",
    "print(Y)\n",
    "print(W)\n",
    "\n",
    "lr = 0.01\n"
   ]
  },
  {
   "cell_type": "code",
   "execution_count": 83,
   "metadata": {},
   "outputs": [],
   "source": [
    "def update(X, Y, W):\n",
    "    O = np.dot(X,W)\n",
    "#     print(O.shape)\n",
    "#     print(Y.shape)\n",
    "    w_c = lr*(np.dot(X.T,Y-O)) / int(X.shape[0])\n",
    "    W = W + w_c\n",
    "    return W"
   ]
  },
  {
   "cell_type": "code",
   "execution_count": 84,
   "metadata": {},
   "outputs": [],
   "source": [
    "for i in range(100):\n",
    "    W = update(X, Y, W) "
   ]
  },
  {
   "cell_type": "code",
   "execution_count": 85,
   "metadata": {},
   "outputs": [
    {
     "data": {
      "image/png": "[encoded data removed]",
      "text/plain": [
       "<Figure size 432x288 with 1 Axes>"
      ]
     },
     "metadata": {
      "needs_background": "light"
     },
     "output_type": "display_data"
    }
   ],
   "source": [
    "for i in range(100000):\n",
    "    W = update(X, Y, W) \n",
    "x1 = [0,1]\n",
    "y1 = [1,0]\n",
    "\n",
    "x2 = [0,1]\n",
    "y2 = [0,1]\n",
    "\n",
    "def calculate(x, root):\n",
    "    a = W[5]\n",
    "    b = W[2] + x*W[4]\n",
    "    c = W[0] + x*W[1] + x*x*W[3]\n",
    "    \n",
    "    if root == 1:\n",
    "        return (-b + np.sqrt(b*b-4*a*c)) / (2*a)\n",
    "    else:\n",
    "        return (-b - np.sqrt(b*b-4*a*c)) / (2*a)\n",
    "\n",
    "xdata = np.linspace(-1,2)\n",
    "plt.figure()\n",
    "plt.scatter(x1,y1, c='r')\n",
    "plt.scatter(x2,y2,c='b')\n",
    "plt.plot(xdata,calculate(xdata, 1),c='y')\n",
    "plt.plot(xdata,calculate(xdata, 2),c='y')\n",
    "# plt.show()\n",
    "# x = [0,5]\n",
    "# y = (-W[0] - W[1]*x) / W[2]\n",
    "# plt.plot(x,y,c='y')\n",
    "plt.show()"
   ]
  },
  {
   "cell_type": "code",
   "execution_count": null,
   "metadata": {},
   "outputs": [],
   "source": []
  },
  {
   "cell_type": "code",
   "execution_count": null,
   "metadata": {},
   "outputs": [],
   "source": []
  }
 ],
 "metadata": {
  "kernelspec": {
   "display_name": "Python 3",
   "language": "python",
   "name": "python3"
  },
  "language_info": {
   "codemirror_mode": {
    "name": "ipython",
    "version": 3
   },
   "file_extension": ".py",
   "mimetype": "text/x-python",
   "name": "python",
   "nbconvert_exporter": "python",
   "pygments_lexer": "ipython3",
   "version": "3.6.5"
  }
 },
 "nbformat": 4,
 "nbformat_minor": 2
}
