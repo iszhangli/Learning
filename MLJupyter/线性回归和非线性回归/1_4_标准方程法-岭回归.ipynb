{
 "cells": [
  {
   "cell_type": "code",
   "execution_count": 15,
   "metadata": {},
   "outputs": [],
   "source": [
    "import numpy as np\n",
    "import matplotlib.pyplot as plt\n",
    "from numpy import genfromtxt"
   ]
  },
  {
   "cell_type": "code",
   "execution_count": 2,
   "metadata": {},
   "outputs": [
    {
     "name": "stdout",
     "output_type": "stream",
     "text": [
      "[[ 234.289  235.6    159.     107.608 1947.      60.323]\n",
      " [ 259.426  232.5    145.6    108.632 1948.      61.122]\n",
      " [ 258.054  368.2    161.6    109.773 1949.      60.171]\n",
      " [ 284.599  335.1    165.     110.929 1950.      61.187]\n",
      " [ 328.975  209.9    309.9    112.075 1951.      63.221]\n",
      " [ 346.999  193.2    359.4    113.27  1952.      63.639]\n",
      " [ 365.385  187.     354.7    115.094 1953.      64.989]\n",
      " [ 363.112  357.8    335.     116.219 1954.      63.761]\n",
      " [ 397.469  290.4    304.8    117.388 1955.      66.019]\n",
      " [ 419.18   282.2    285.7    118.734 1956.      67.857]\n",
      " [ 442.769  293.6    279.8    120.445 1957.      68.169]\n",
      " [ 444.546  468.1    263.7    121.95  1958.      66.513]\n",
      " [ 482.704  381.3    255.2    123.366 1959.      68.655]\n",
      " [ 502.601  393.1    251.4    125.368 1960.      69.564]\n",
      " [ 518.173  480.6    257.2    127.852 1961.      69.331]\n",
      " [ 554.894  400.7    282.7    130.081 1962.      70.551]] [[ 83. ]\n",
      " [ 88.5]\n",
      " [ 88.2]\n",
      " [ 89.5]\n",
      " [ 96.2]\n",
      " [ 98.1]\n",
      " [ 99. ]\n",
      " [100. ]\n",
      " [101.2]\n",
      " [104.6]\n",
      " [108.4]\n",
      " [110.8]\n",
      " [112.6]\n",
      " [114.2]\n",
      " [115.7]\n",
      " [116.9]]\n"
     ]
    }
   ],
   "source": [
    "data = genfromtxt(r\"E:\\Documents\\AI Mooc\\线性回归以及非线性回归\\longley.csv\", delimiter=',')\n",
    "x_data = data[1:, 2:]\n",
    "y_data = data[1:, 1, np.newaxis]\n",
    "print(x_data, y_data)"
   ]
  },
  {
   "cell_type": "code",
   "execution_count": 5,
   "metadata": {},
   "outputs": [
    {
     "name": "stdout",
     "output_type": "stream",
     "text": [
      "(16, 6)\n",
      "(16, 1)\n",
      "(16, 7)\n"
     ]
    }
   ],
   "source": [
    "print(np.mat(x_data).shape)\n",
    "print(np.mat(y_data).shape)\n",
    "X_data = np.concatenate((np.ones((16,1)), x_data), axis=1)\n",
    "print(X_data.shape)"
   ]
  },
  {
   "cell_type": "code",
   "execution_count": 7,
   "metadata": {},
   "outputs": [],
   "source": [
    "# 岭回归标准方程法求解回归参数\n",
    "def weights(xArr, yArr, lam=0.2):\n",
    "    xMat = np.mat(xArr)\n",
    "    yMat = np.mat(yArr)\n",
    "    xTx = xMat.T*xMat\n",
    "    rxTx = xTx + np.eye(xMat.shape[1]) * lam\n",
    "    if np.linalg.det(rxTx) == 0.0:\n",
    "        print('this matrix cannot do inverse')\n",
    "        return \n",
    "    ws = rxTx.I * xMat.T*yMat\n",
    "    return ws"
   ]
  },
  {
   "cell_type": "code",
   "execution_count": 9,
   "metadata": {},
   "outputs": [
    {
     "name": "stdout",
     "output_type": "stream",
     "text": [
      "[[ 7.38107363e-04]\n",
      " [ 2.07703836e-01]\n",
      " [ 2.10076376e-02]\n",
      " [ 5.05385441e-03]\n",
      " [-1.59173066e+00]\n",
      " [ 1.10442920e-01]\n",
      " [-2.42280461e-01]]\n"
     ]
    }
   ],
   "source": [
    "ws = weights(X_data, y_data)\n",
    "print(ws)"
   ]
  },
  {
   "cell_type": "code",
   "execution_count": 12,
   "metadata": {},
   "outputs": [],
   "source": [
    "per_y = np.mat(X_data) * np.mat(ws)"
   ]
  },
  {
   "cell_type": "code",
   "execution_count": 23,
   "metadata": {},
   "outputs": [
    {
     "data": {
      "image/png": "[encoded data removed]",
      "text/plain": [
       "<Figure size 432x288 with 1 Axes>"
      ]
     },
     "metadata": {
      "needs_background": "light"
     },
     "output_type": "display_data"
    }
   ],
   "source": [
    "plt.figure(1)\n",
    "plt.plot(y_data,'ro', label='true data')\n",
    "plt.plot(per_y, 'b*', label='predict data')\n",
    "plt.legend()\n",
    "ax = plt.gca()\n",
    "# ax.spines['right'].set_color('none')\n",
    "# ax.spines['top'].set_color('none')\n",
    "# ax.spines['left'].set_color('none')\n",
    "# ax.spines['bottom'].set_color('none')\n",
    "plt.show()"
   ]
  }
 ],
 "metadata": {
  "kernelspec": {
   "display_name": "Python 3",
   "language": "python",
   "name": "python3"
  },
  "language_info": {
   "codemirror_mode": {
    "name": "ipython",
    "version": 3
   },
   "file_extension": ".py",
   "mimetype": "text/x-python",
   "name": "python",
   "nbconvert_exporter": "python",
   "pygments_lexer": "ipython3",
   "version": "3.6.5"
  }
 },
 "nbformat": 4,
 "nbformat_minor": 2
}
