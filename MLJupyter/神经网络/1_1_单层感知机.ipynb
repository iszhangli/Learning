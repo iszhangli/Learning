{
 "cells": [
  {
   "cell_type": "code",
   "execution_count": 27,
   "metadata": {},
   "outputs": [],
   "source": [
    "import numpy as np\n",
    "import matplotlib.pyplot as plt"
   ]
  },
  {
   "cell_type": "code",
   "execution_count": 33,
   "metadata": {},
   "outputs": [
    {
     "name": "stdout",
     "output_type": "stream",
     "text": [
      "[[-0.27885503]\n",
      " [ 0.12193013]\n",
      " [ 0.47790018]]\n"
     ]
    }
   ],
   "source": [
    "X = np.array([[1,3,3],[1,4,3],[1,1,1],[1,0,2]])\n",
    "Y = np.array([[1],[1],[-1],[-1]])\n",
    "# 初始化权值\n",
    "W = (np.random.random([3,1])-0.5) * 2\n",
    "print(W)\n",
    "\n",
    "lr = 0.01\n"
   ]
  },
  {
   "cell_type": "code",
   "execution_count": 34,
   "metadata": {},
   "outputs": [],
   "source": [
    "def update(X, Y, W):\n",
    "    O = np.sign(np.dot(X,W))\n",
    "#     print(O.shape)\n",
    "#     print(Y.shape)\n",
    "    w_c = lr*(np.dot(X.T,Y-O)) / int(X.shape[0])\n",
    "    W = W + w_c\n",
    "    return W\n",
    "  "
   ]
  },
  {
   "cell_type": "code",
   "execution_count": 35,
   "metadata": {},
   "outputs": [
    {
     "name": "stdout",
     "output_type": "stream",
     "text": [
      "[[-0.43885503]\n",
      " [ 0.06693013]\n",
      " [ 0.21290018]]\n"
     ]
    }
   ],
   "source": [
    "for i in range(100):\n",
    "    W = update(X, Y, W) \n",
    "print(W)"
   ]
  },
  {
   "cell_type": "code",
   "execution_count": 36,
   "metadata": {},
   "outputs": [
    {
     "data": {
      "image/png": "[encoded data removed]",
      "text/plain": [
       "<Figure size 432x288 with 1 Axes>"
      ]
     },
     "metadata": {
      "needs_background": "light"
     },
     "output_type": "display_data"
    }
   ],
   "source": [
    "x1 = [3,3]\n",
    "y1 = [3,4]\n",
    "\n",
    "x2 = [2,1]\n",
    "y2 = [1,1]\n",
    "\n",
    "plt.figure()\n",
    "plt.scatter(x1,y1,c='r')\n",
    "plt.scatter(x2,y2,c='b')\n",
    "# plt.show()\n",
    "x = [0,5]\n",
    "y = (-W[0] - W[1]*x) / W[2]\n",
    "plt.plot(x,y,c='y')\n",
    "plt.show()"
   ]
  },
  {
   "cell_type": "code",
   "execution_count": null,
   "metadata": {},
   "outputs": [],
   "source": []
  }
 ],
 "metadata": {
  "kernelspec": {
   "display_name": "Python 3",
   "language": "python",
   "name": "python3"
  },
  "language_info": {
   "codemirror_mode": {
    "name": "ipython",
    "version": 3
   },
   "file_extension": ".py",
   "mimetype": "text/x-python",
   "name": "python",
   "nbconvert_exporter": "python",
   "pygments_lexer": "ipython3",
   "version": "3.6.5"
  }
 },
 "nbformat": 4,
 "nbformat_minor": 2
}
