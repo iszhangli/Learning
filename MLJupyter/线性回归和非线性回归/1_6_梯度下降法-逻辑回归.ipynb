{
 "cells": [
  {
   "cell_type": "code",
   "execution_count": 4,
   "metadata": {},
   "outputs": [],
   "source": [
    "import matplotlib.pyplot as plt\n",
    "import numpy as np\n",
    "from sklearn import preprocessing\n",
    "from sklearn.metrics import classification_report  # 检验准确率"
   ]
  },
  {
   "cell_type": "code",
   "execution_count": 55,
   "metadata": {},
   "outputs": [],
   "source": [
    "scale = True  # 是否做数据的标准化"
   ]
  },
  {
   "cell_type": "code",
   "execution_count": 12,
   "metadata": {},
   "outputs": [
    {
     "name": "stdout",
     "output_type": "stream",
     "text": [
      "[[-1.7612000e-02  1.4053064e+01  0.0000000e+00]\n",
      " [-1.3956340e+00  4.6625410e+00  1.0000000e+00]\n",
      " [-7.5215700e-01  6.5386200e+00  0.0000000e+00]\n",
      " [-1.3223710e+00  7.1528530e+00  0.0000000e+00]\n",
      " [ 4.2336300e-01  1.1054677e+01  0.0000000e+00]\n",
      " [ 4.0670400e-01  7.0673350e+00  1.0000000e+00]\n",
      " [ 6.6739400e-01  1.2741452e+01  0.0000000e+00]\n",
      " [-2.4601500e+00  6.8668050e+00  1.0000000e+00]\n",
      " [ 5.6941100e-01  9.5487550e+00  0.0000000e+00]\n",
      " [-2.6632000e-02  1.0427743e+01  0.0000000e+00]\n",
      " [ 8.5043300e-01  6.9203340e+00  1.0000000e+00]\n",
      " [ 1.3471830e+00  1.3175500e+01  0.0000000e+00]\n",
      " [ 1.1768130e+00  3.1670200e+00  1.0000000e+00]\n",
      " [-1.7818710e+00  9.0979530e+00  0.0000000e+00]\n",
      " [-5.6660600e-01  5.7490030e+00  1.0000000e+00]\n",
      " [ 9.3163500e-01  1.5895050e+00  1.0000000e+00]\n",
      " [-2.4205000e-02  6.1518230e+00  1.0000000e+00]\n",
      " [-3.6453000e-02  2.6909880e+00  1.0000000e+00]\n",
      " [-1.9694900e-01  4.4416500e-01  1.0000000e+00]\n",
      " [ 1.0144590e+00  5.7543990e+00  1.0000000e+00]\n",
      " [ 1.9852980e+00  3.2306190e+00  1.0000000e+00]\n",
      " [-1.6934530e+00 -5.5754000e-01  1.0000000e+00]\n",
      " [-5.7652500e-01  1.1778922e+01  0.0000000e+00]\n",
      " [-3.4681100e-01 -1.6787300e+00  1.0000000e+00]\n",
      " [-2.1244840e+00  2.6724710e+00  1.0000000e+00]\n",
      " [ 1.2179160e+00  9.5970150e+00  0.0000000e+00]\n",
      " [-7.3392800e-01  9.0986870e+00  0.0000000e+00]\n",
      " [-3.6420010e+00 -1.6180870e+00  1.0000000e+00]\n",
      " [ 3.1598500e-01  3.5239530e+00  1.0000000e+00]\n",
      " [ 1.4166140e+00  9.6192320e+00  0.0000000e+00]\n",
      " [-3.8632300e-01  3.9892860e+00  1.0000000e+00]\n",
      " [ 5.5692100e-01  8.2949840e+00  1.0000000e+00]\n",
      " [ 1.2248630e+00  1.1587360e+01  0.0000000e+00]\n",
      " [-1.3478030e+00 -2.4060510e+00  1.0000000e+00]\n",
      " [ 1.1966040e+00  4.9518510e+00  1.0000000e+00]\n",
      " [ 2.7522100e-01  9.5436470e+00  0.0000000e+00]\n",
      " [ 4.7057500e-01  9.3324880e+00  0.0000000e+00]\n",
      " [-1.8895670e+00  9.5426620e+00  0.0000000e+00]\n",
      " [-1.5278930e+00  1.2150579e+01  0.0000000e+00]\n",
      " [-1.1852470e+00  1.1309318e+01  0.0000000e+00]\n",
      " [-4.4567800e-01  3.2973030e+00  1.0000000e+00]\n",
      " [ 1.0422220e+00  6.1051550e+00  1.0000000e+00]\n",
      " [-6.1878700e-01  1.0320986e+01  0.0000000e+00]\n",
      " [ 1.1520830e+00  5.4846700e-01  1.0000000e+00]\n",
      " [ 8.2853400e-01  2.6760450e+00  1.0000000e+00]\n",
      " [-1.2377280e+00  1.0549033e+01  0.0000000e+00]\n",
      " [-6.8356500e-01 -2.1661250e+00  1.0000000e+00]\n",
      " [ 2.2945600e-01  5.9219380e+00  1.0000000e+00]\n",
      " [-9.5988500e-01  1.1555336e+01  0.0000000e+00]\n",
      " [ 4.9291100e-01  1.0993324e+01  0.0000000e+00]\n",
      " [ 1.8499200e-01  8.7214880e+00  0.0000000e+00]\n",
      " [-3.5571500e-01  1.0325976e+01  0.0000000e+00]\n",
      " [-3.9782200e-01  8.0583970e+00  0.0000000e+00]\n",
      " [ 8.2483900e-01  1.3730343e+01  0.0000000e+00]\n",
      " [ 1.5072780e+00  5.0278660e+00  1.0000000e+00]\n",
      " [ 9.9671000e-02  6.8358390e+00  1.0000000e+00]\n",
      " [-3.4400800e-01  1.0717485e+01  0.0000000e+00]\n",
      " [ 1.7859280e+00  7.7186450e+00  1.0000000e+00]\n",
      " [-9.1880100e-01  1.1560217e+01  0.0000000e+00]\n",
      " [-3.6400900e-01  4.7473000e+00  1.0000000e+00]\n",
      " [-8.4172200e-01  4.1190830e+00  1.0000000e+00]\n",
      " [ 4.9042600e-01  1.9605390e+00  1.0000000e+00]\n",
      " [-7.1940000e-03  9.0757920e+00  0.0000000e+00]\n",
      " [ 3.5610700e-01  1.2447863e+01  0.0000000e+00]\n",
      " [ 3.4257800e-01  1.2281162e+01  0.0000000e+00]\n",
      " [-8.1082300e-01 -1.4660180e+00  1.0000000e+00]\n",
      " [ 2.5307770e+00  6.4768010e+00  1.0000000e+00]\n",
      " [ 1.2966830e+00  1.1607559e+01  0.0000000e+00]\n",
      " [ 4.7548700e-01  1.2040035e+01  0.0000000e+00]\n",
      " [-7.8327700e-01  1.1009725e+01  0.0000000e+00]\n",
      " [ 7.4798000e-02  1.1023650e+01  0.0000000e+00]\n",
      " [-1.3374720e+00  4.6833900e-01  1.0000000e+00]\n",
      " [-1.0278100e-01  1.3763651e+01  0.0000000e+00]\n",
      " [-1.4732400e-01  2.8748460e+00  1.0000000e+00]\n",
      " [ 5.1838900e-01  9.8870350e+00  0.0000000e+00]\n",
      " [ 1.0153990e+00  7.5718820e+00  0.0000000e+00]\n",
      " [-1.6580860e+00 -2.7255000e-02  1.0000000e+00]\n",
      " [ 1.3199440e+00  2.1712280e+00  1.0000000e+00]\n",
      " [ 2.0562160e+00  5.0199810e+00  1.0000000e+00]\n",
      " [-8.5163300e-01  4.3756910e+00  1.0000000e+00]\n",
      " [-1.5100470e+00  6.0619920e+00  0.0000000e+00]\n",
      " [-1.0766370e+00 -3.1818880e+00  1.0000000e+00]\n",
      " [ 1.8210960e+00  1.0283990e+01  0.0000000e+00]\n",
      " [ 3.0101500e+00  8.4017660e+00  1.0000000e+00]\n",
      " [-1.0994580e+00  1.6882740e+00  1.0000000e+00]\n",
      " [-8.3487200e-01 -1.7338690e+00  1.0000000e+00]\n",
      " [-8.4663700e-01  3.8490750e+00  1.0000000e+00]\n",
      " [ 1.4001020e+00  1.2628781e+01  0.0000000e+00]\n",
      " [ 1.7528420e+00  5.4681660e+00  1.0000000e+00]\n",
      " [ 7.8557000e-02  5.9736000e-02  1.0000000e+00]\n",
      " [ 8.9392000e-02 -7.1530000e-01  1.0000000e+00]\n",
      " [ 1.8256620e+00  1.2693808e+01  0.0000000e+00]\n",
      " [ 1.9744500e-01  9.7446380e+00  0.0000000e+00]\n",
      " [ 1.2611700e-01  9.2231100e-01  1.0000000e+00]\n",
      " [-6.7979700e-01  1.2205300e+00  1.0000000e+00]\n",
      " [ 6.7798300e-01  2.5566660e+00  1.0000000e+00]\n",
      " [ 7.6134900e-01  1.0693862e+01  0.0000000e+00]\n",
      " [-2.1687910e+00  1.4363200e-01  1.0000000e+00]\n",
      " [ 1.3886100e+00  9.3419970e+00  0.0000000e+00]\n",
      " [ 3.1702900e-01  1.4739025e+01  0.0000000e+00]]\n",
      "[[-1.7612000e-02  1.4053064e+01]\n",
      " [-1.3956340e+00  4.6625410e+00]\n",
      " [-7.5215700e-01  6.5386200e+00]\n",
      " [-1.3223710e+00  7.1528530e+00]\n",
      " [ 4.2336300e-01  1.1054677e+01]\n",
      " [ 4.0670400e-01  7.0673350e+00]\n",
      " [ 6.6739400e-01  1.2741452e+01]\n",
      " [-2.4601500e+00  6.8668050e+00]\n",
      " [ 5.6941100e-01  9.5487550e+00]\n",
      " [-2.6632000e-02  1.0427743e+01]\n",
      " [ 8.5043300e-01  6.9203340e+00]\n",
      " [ 1.3471830e+00  1.3175500e+01]\n",
      " [ 1.1768130e+00  3.1670200e+00]\n",
      " [-1.7818710e+00  9.0979530e+00]\n",
      " [-5.6660600e-01  5.7490030e+00]\n",
      " [ 9.3163500e-01  1.5895050e+00]\n",
      " [-2.4205000e-02  6.1518230e+00]\n",
      " [-3.6453000e-02  2.6909880e+00]\n",
      " [-1.9694900e-01  4.4416500e-01]\n",
      " [ 1.0144590e+00  5.7543990e+00]\n",
      " [ 1.9852980e+00  3.2306190e+00]\n",
      " [-1.6934530e+00 -5.5754000e-01]\n",
      " [-5.7652500e-01  1.1778922e+01]\n",
      " [-3.4681100e-01 -1.6787300e+00]\n",
      " [-2.1244840e+00  2.6724710e+00]\n",
      " [ 1.2179160e+00  9.5970150e+00]\n",
      " [-7.3392800e-01  9.0986870e+00]\n",
      " [-3.6420010e+00 -1.6180870e+00]\n",
      " [ 3.1598500e-01  3.5239530e+00]\n",
      " [ 1.4166140e+00  9.6192320e+00]\n",
      " [-3.8632300e-01  3.9892860e+00]\n",
      " [ 5.5692100e-01  8.2949840e+00]\n",
      " [ 1.2248630e+00  1.1587360e+01]\n",
      " [-1.3478030e+00 -2.4060510e+00]\n",
      " [ 1.1966040e+00  4.9518510e+00]\n",
      " [ 2.7522100e-01  9.5436470e+00]\n",
      " [ 4.7057500e-01  9.3324880e+00]\n",
      " [-1.8895670e+00  9.5426620e+00]\n",
      " [-1.5278930e+00  1.2150579e+01]\n",
      " [-1.1852470e+00  1.1309318e+01]\n",
      " [-4.4567800e-01  3.2973030e+00]\n",
      " [ 1.0422220e+00  6.1051550e+00]\n",
      " [-6.1878700e-01  1.0320986e+01]\n",
      " [ 1.1520830e+00  5.4846700e-01]\n",
      " [ 8.2853400e-01  2.6760450e+00]\n",
      " [-1.2377280e+00  1.0549033e+01]\n",
      " [-6.8356500e-01 -2.1661250e+00]\n",
      " [ 2.2945600e-01  5.9219380e+00]\n",
      " [-9.5988500e-01  1.1555336e+01]\n",
      " [ 4.9291100e-01  1.0993324e+01]\n",
      " [ 1.8499200e-01  8.7214880e+00]\n",
      " [-3.5571500e-01  1.0325976e+01]\n",
      " [-3.9782200e-01  8.0583970e+00]\n",
      " [ 8.2483900e-01  1.3730343e+01]\n",
      " [ 1.5072780e+00  5.0278660e+00]\n",
      " [ 9.9671000e-02  6.8358390e+00]\n",
      " [-3.4400800e-01  1.0717485e+01]\n",
      " [ 1.7859280e+00  7.7186450e+00]\n",
      " [-9.1880100e-01  1.1560217e+01]\n",
      " [-3.6400900e-01  4.7473000e+00]\n",
      " [-8.4172200e-01  4.1190830e+00]\n",
      " [ 4.9042600e-01  1.9605390e+00]\n",
      " [-7.1940000e-03  9.0757920e+00]\n",
      " [ 3.5610700e-01  1.2447863e+01]\n",
      " [ 3.4257800e-01  1.2281162e+01]\n",
      " [-8.1082300e-01 -1.4660180e+00]\n",
      " [ 2.5307770e+00  6.4768010e+00]\n",
      " [ 1.2966830e+00  1.1607559e+01]\n",
      " [ 4.7548700e-01  1.2040035e+01]\n",
      " [-7.8327700e-01  1.1009725e+01]\n",
      " [ 7.4798000e-02  1.1023650e+01]\n",
      " [-1.3374720e+00  4.6833900e-01]\n",
      " [-1.0278100e-01  1.3763651e+01]\n",
      " [-1.4732400e-01  2.8748460e+00]\n",
      " [ 5.1838900e-01  9.8870350e+00]\n",
      " [ 1.0153990e+00  7.5718820e+00]\n",
      " [-1.6580860e+00 -2.7255000e-02]\n",
      " [ 1.3199440e+00  2.1712280e+00]\n",
      " [ 2.0562160e+00  5.0199810e+00]\n",
      " [-8.5163300e-01  4.3756910e+00]\n",
      " [-1.5100470e+00  6.0619920e+00]\n",
      " [-1.0766370e+00 -3.1818880e+00]\n",
      " [ 1.8210960e+00  1.0283990e+01]\n",
      " [ 3.0101500e+00  8.4017660e+00]\n",
      " [-1.0994580e+00  1.6882740e+00]\n",
      " [-8.3487200e-01 -1.7338690e+00]\n",
      " [-8.4663700e-01  3.8490750e+00]\n",
      " [ 1.4001020e+00  1.2628781e+01]\n",
      " [ 1.7528420e+00  5.4681660e+00]\n",
      " [ 7.8557000e-02  5.9736000e-02]\n",
      " [ 8.9392000e-02 -7.1530000e-01]\n",
      " [ 1.8256620e+00  1.2693808e+01]\n",
      " [ 1.9744500e-01  9.7446380e+00]\n",
      " [ 1.2611700e-01  9.2231100e-01]\n",
      " [-6.7979700e-01  1.2205300e+00]\n",
      " [ 6.7798300e-01  2.5566660e+00]\n",
      " [ 7.6134900e-01  1.0693862e+01]\n",
      " [-2.1687910e+00  1.4363200e-01]\n",
      " [ 1.3886100e+00  9.3419970e+00]\n",
      " [ 3.1702900e-01  1.4739025e+01]]\n",
      "[0. 1. 0. 0. 0. 1. 0. 1. 0. 0. 1. 0. 1. 0. 1. 1. 1. 1. 1. 1. 1. 1. 0. 1.\n",
      " 1. 0. 0. 1. 1. 0. 1. 1. 0. 1. 1. 0. 0. 0. 0. 0. 1. 1. 0. 1. 1. 0. 1. 1.\n",
      " 0. 0. 0. 0. 0. 0. 1. 1. 0. 1. 0. 1. 1. 1. 0. 0. 0. 1. 1. 0. 0. 0. 0. 1.\n",
      " 0. 1. 0. 0. 1. 1. 1. 1. 0. 1. 0. 1. 1. 1. 1. 0. 1. 1. 1. 0. 0. 1. 1. 1.\n",
      " 0. 1. 0. 0.]\n"
     ]
    }
   ],
   "source": [
    "data = np.genfromtxt(r'E:\\Documents\\AI Mooc\\线性回归以及非线性回归\\LR-testSet.csv', delimiter=',')\n",
    "print(data)\n",
    "x_data = data[:, :-1]\n",
    "y_data = data[:, -1]\n",
    "print(x_data)\n",
    "print(y_data)"
   ]
  },
  {
   "cell_type": "code",
   "execution_count": 48,
   "metadata": {},
   "outputs": [
    {
     "data": {
      "image/png": "[encoded data removed]",
      "text/plain": [
       "<Figure size 432x288 with 1 Axes>"
      ]
     },
     "metadata": {
      "needs_background": "light"
     },
     "output_type": "display_data"
    }
   ],
   "source": [
    "def plot():\n",
    "    x0, y0, x1, y1 = [[], [], [], []]\n",
    "    for i in range(len(x_data)):\n",
    "        if y_data[i] == 0:\n",
    "            x0.append(x_data[i, 0])\n",
    "            y0.append(x_data[i, 1])\n",
    "        else:\n",
    "            x1.append(x_data[i, 0])\n",
    "            y1.append(x_data[i, 1])\n",
    "    plt.scatter(x0, y0, c='b')\n",
    "    plt.scatter(x1, y1, c='r')\n",
    "plot()"
   ]
  },
  {
   "cell_type": "code",
   "execution_count": 26,
   "metadata": {},
   "outputs": [
    {
     "name": "stdout",
     "output_type": "stream",
     "text": [
      "(100, 2)\n",
      "(100, 1)\n",
      "(100, 3)\n"
     ]
    }
   ],
   "source": [
    "x_data = data[:, :-1]\n",
    "y_data = data[:, -1, np.newaxis]\n",
    "print(np.mat(x_data).shape)\n",
    "print(np.mat(y_data).shape)\n",
    "# 给样本加上偏置值，也就是常数项\n",
    "X_data = np.concatenate((np.ones((100, 1)), x_data), axis=1)\n",
    "print(X_data.shape)"
   ]
  },
  {
   "cell_type": "code",
   "execution_count": 56,
   "metadata": {},
   "outputs": [],
   "source": [
    "def sigmoid(x):\n",
    "    return 1 / (1+ np.exp(-x))\n",
    "def cost(xMat, yMat, ws):\n",
    "    left = np.multiply(yMat, np.log(sigmoid(xMat*ws)))  # np.multiply 按位相乘  矩阵的形状必须一样\n",
    "#     print(left) # c猜测是一个多维的数组\n",
    "    right = np.multiply((1 - yMat), np.log(1 - sigmoid(xMat*ws)))\n",
    "    return np.sum(left + right) / (-len(xMat))\n",
    "\n",
    "def gradscent(xArr, yArr, scale):\n",
    "    if scale == True:  # 是否做数据标准化\n",
    "        xArr = preprocessing.scale(xArr)\n",
    "    xMat = np.mat(xArr)\n",
    "    yMat = np.mat(yArr)\n",
    "    \n",
    "    lr = 0.001\n",
    "    epochs = 10000\n",
    "    cost_list = []\n",
    "    \n",
    "    m, n = np.shape(xMat)\n",
    "    ws = np.mat(np.ones((n, 1)))\n",
    "    \n",
    "    for i in range(epochs+1):\n",
    "        h = sigmoid(xArr*ws)\n",
    "        \n",
    "        ws_grad = xMat.T * (h - yMat) / m\n",
    "        ws = ws - lr * ws_grad\n",
    "        \n",
    "        if i % 50 == 0:\n",
    "            cost_list.append(cost(xArr, yArr, ws))\n",
    "    return ws, cost_list\n",
    "        "
   ]
  },
  {
   "cell_type": "code",
   "execution_count": 57,
   "metadata": {},
   "outputs": [
    {
     "name": "stdout",
     "output_type": "stream",
     "text": [
      "[[ 1.        ]\n",
      " [ 0.30816757]\n",
      " [-1.76171512]]\n"
     ]
    }
   ],
   "source": [
    "ws, cost_list = gradscent(X_data, y_data, scale)\n",
    "print(ws)"
   ]
  },
  {
   "cell_type": "code",
   "execution_count": 58,
   "metadata": {},
   "outputs": [
    {
     "data": {
      "image/png": "[encoded data removed]",
      "text/plain": [
       "<Figure size 432x288 with 1 Axes>"
      ]
     },
     "metadata": {
      "needs_background": "light"
     },
     "output_type": "display_data"
    }
   ],
   "source": [
    "plot()\n",
    "x_test = [[-4], [3]]   # 做了标准化后，是不是应该用标准化的数据\n",
    "y_test = (-ws[0] - x_test*ws[1])/ws[2]\n",
    "plt.plot(x_test, y_test, c='y')\n",
    "plt.show()"
   ]
  }
 ],
 "metadata": {
  "kernelspec": {
   "display_name": "Python 3",
   "language": "python",
   "name": "python3"
  },
  "language_info": {
   "codemirror_mode": {
    "name": "ipython",
    "version": 3
   },
   "file_extension": ".py",
   "mimetype": "text/x-python",
   "name": "python",
   "nbconvert_exporter": "python",
   "pygments_lexer": "ipython3",
   "version": "3.6.5"
  }
 },
 "nbformat": 4,
 "nbformat_minor": 2
}
